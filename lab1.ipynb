{
 "cells": [
  {
   "cell_type": "code",
   "execution_count": 14,
   "metadata": {},
   "outputs": [],
   "source": [
    "import numpy as np"
   ]
  },
  {
   "cell_type": "code",
   "execution_count": 15,
   "metadata": {},
   "outputs": [],
   "source": [
    "MATRIX_SIZE=(4,5,7)\n",
    "matrix_A=np.random.rand(*MATRIX_SIZE)"
   ]
  },
  {
   "cell_type": "code",
   "execution_count": 16,
   "metadata": {},
   "outputs": [
    {
     "name": "stdout",
     "output_type": "stream",
     "text": [
      "A:[[[0.88576801 0.91542383 0.16895761 0.2644475  0.79297115 0.13337411\n",
      "   0.95732126]\n",
      "  [0.97383334 0.945572   0.90746442 0.03545413 0.80493543 0.49790563\n",
      "   0.9067039 ]\n",
      "  [0.59198859 0.64808995 0.79773082 0.06622276 0.11689567 0.04903448\n",
      "   0.62182265]\n",
      "  [0.34508505 0.0972048  0.49956957 0.08246241 0.89263507 0.88946626\n",
      "   0.02857221]\n",
      "  [0.12128907 0.27854648 0.64112224 0.83934224 0.11842432 0.29698713\n",
      "   0.1828946 ]]\n",
      "\n",
      " [[0.02347686 0.83710456 0.99911289 0.47736883 0.06686749 0.37310206\n",
      "   0.62218651]\n",
      "  [0.03749243 0.7760045  0.03219153 0.95209835 0.50837183 0.52567089\n",
      "   0.72462424]\n",
      "  [0.27216265 0.72581192 0.56568856 0.13465707 0.04805902 0.67449045\n",
      "   0.07693683]\n",
      "  [0.40837342 0.00128874 0.41052687 0.7115363  0.10640304 0.99568036\n",
      "   0.54683942]\n",
      "  [0.22325531 0.40818093 0.05038154 0.95078275 0.27331797 0.64684198\n",
      "   0.69587522]]\n",
      "\n",
      " [[0.24688001 0.02647357 0.32133381 0.24565924 0.13327576 0.91465587\n",
      "   0.05238384]\n",
      "  [0.01963075 0.38615338 0.65995588 0.44820269 0.60616455 0.06437396\n",
      "   0.09581014]\n",
      "  [0.22589912 0.62356086 0.49901327 0.87472531 0.83307455 0.61824796\n",
      "   0.15960027]\n",
      "  [0.87440453 0.27775919 0.34930274 0.45066894 0.85184294 0.15686456\n",
      "   0.36769339]\n",
      "  [0.35540275 0.51012949 0.54775208 0.48945074 0.70793698 0.78328996\n",
      "   0.45050527]]\n",
      "\n",
      " [[0.78127438 0.28837904 0.75605248 0.83269555 0.81619789 0.64043189\n",
      "   0.54504008]\n",
      "  [0.85500787 0.11799952 0.13726699 0.27040349 0.36199496 0.8970771\n",
      "   0.17453232]\n",
      "  [0.43577258 0.75251041 0.86463526 0.76327402 0.84380144 0.86391926\n",
      "   0.08601797]\n",
      "  [0.34200045 0.42284791 0.29270013 0.06543113 0.48150459 0.61021678\n",
      "   0.8223792 ]\n",
      "  [0.72200243 0.47097979 0.70101782 0.26980253 0.35135316 0.99774023\n",
      "   0.93232799]]]\n"
     ]
    }
   ],
   "source": [
    "print(f\"A:{str(matrix_A)}\")"
   ]
  },
  {
   "cell_type": "code",
   "execution_count": 17,
   "metadata": {},
   "outputs": [],
   "source": [
    "mapper_for_B=lambda x: (x>=0.5)*1\n",
    "\n",
    "def mapper_for_C(x):\n",
    "    if x>=0.9: return 5 \n",
    "    elif x>=0.7: return 4\n",
    "    elif x>=0.5: return 3\n",
    "    elif x>=0.3: return 2\n",
    "    else: return 1"
   ]
  },
  {
   "cell_type": "code",
   "execution_count": 18,
   "metadata": {},
   "outputs": [],
   "source": [
    "matrix_B=np.vectorize(mapper_for_B)(matrix_A)\n",
    "matrix_C=np.vectorize(mapper_for_C)(matrix_A)"
   ]
  },
  {
   "cell_type": "code",
   "execution_count": 19,
   "metadata": {},
   "outputs": [
    {
     "name": "stdout",
     "output_type": "stream",
     "text": [
      "B:[[[1 1 0 0 1 0 1]\n",
      "  [1 1 1 0 1 0 1]\n",
      "  [1 1 1 0 0 0 1]\n",
      "  [0 0 0 0 1 1 0]\n",
      "  [0 0 1 1 0 0 0]]\n",
      "\n",
      " [[0 1 1 0 0 0 1]\n",
      "  [0 1 0 1 1 1 1]\n",
      "  [0 1 1 0 0 1 0]\n",
      "  [0 0 0 1 0 1 1]\n",
      "  [0 0 0 1 0 1 1]]\n",
      "\n",
      " [[0 0 0 0 0 1 0]\n",
      "  [0 0 1 0 1 0 0]\n",
      "  [0 1 0 1 1 1 0]\n",
      "  [1 0 0 0 1 0 0]\n",
      "  [0 1 1 0 1 1 0]]\n",
      "\n",
      " [[1 0 1 1 1 1 1]\n",
      "  [1 0 0 0 0 1 0]\n",
      "  [0 1 1 1 1 1 0]\n",
      "  [0 0 0 0 0 1 1]\n",
      "  [1 0 1 0 0 1 1]]]\n"
     ]
    }
   ],
   "source": [
    "print(f\"B:{str(matrix_B)}\")"
   ]
  },
  {
   "cell_type": "code",
   "execution_count": 20,
   "metadata": {},
   "outputs": [
    {
     "name": "stdout",
     "output_type": "stream",
     "text": [
      "C:[[[4 5 1 1 4 1 5]\n",
      "  [5 5 5 1 4 2 5]\n",
      "  [3 3 4 1 1 1 3]\n",
      "  [2 1 2 1 4 4 1]\n",
      "  [1 1 3 4 1 1 1]]\n",
      "\n",
      " [[1 4 5 2 1 2 3]\n",
      "  [1 4 1 5 3 3 4]\n",
      "  [1 4 3 1 1 3 1]\n",
      "  [2 1 2 4 1 5 3]\n",
      "  [1 2 1 5 1 3 3]]\n",
      "\n",
      " [[1 1 2 1 1 5 1]\n",
      "  [1 2 3 2 3 1 1]\n",
      "  [1 3 2 4 4 3 1]\n",
      "  [4 1 2 2 4 1 2]\n",
      "  [2 3 3 2 4 4 2]]\n",
      "\n",
      " [[4 1 4 4 4 3 3]\n",
      "  [4 1 1 1 2 4 1]\n",
      "  [2 4 4 4 4 4 1]\n",
      "  [2 2 1 1 2 3 4]\n",
      "  [4 2 4 1 2 5 5]]]\n"
     ]
    }
   ],
   "source": [
    "print(f\"C:{str(matrix_C)}\")"
   ]
  },
  {
   "cell_type": "code",
   "execution_count": 21,
   "metadata": {},
   "outputs": [],
   "source": [
    "W1 = [0.2, 0.1, 0.2, 0.5]\n",
    "W2 = [0.3, 0.1, 0.2, 0.1, 0.3]\n",
    "W3 = [0.1, 0.2, 0.15, 0.15, 0.2, 0.1, 0.2]\n",
    "\n",
    "def sum_by_coefs(array):\n",
    "    sum = 0\n",
    "    for i in range(4):\n",
    "        for j in range(5):\n",
    "            for k in range(7):\n",
    "                sum += W1[i] * W2[j] * W3[k] * array[i][j][k]\n",
    "    return sum"
   ]
  },
  {
   "cell_type": "code",
   "execution_count": 22,
   "metadata": {},
   "outputs": [
    {
     "name": "stdout",
     "output_type": "stream",
     "text": [
      "A: 0.573183792999281\n",
      "B: 0.5675000000000003\n",
      "C: 2.9450000000000007\n"
     ]
    }
   ],
   "source": [
    "for array, name in zip([matrix_A,matrix_B,matrix_C],['A','B',\"C\"]):\n",
    "    print(f'{name}: {sum_by_coefs(array)}')"
   ]
  },
  {
   "cell_type": "code",
   "execution_count": 56,
   "metadata": {},
   "outputs": [
    {
     "name": "stdout",
     "output_type": "stream",
     "text": [
      "Element 221: |0.0374924287|0|1|\n",
      "Element 333: |0.4990132657|0|2|\n",
      "Element 422: |0.1179995242|0|1|\n",
      "Element 147: |0.0285722136|0|1|\n",
      "Element 323: |0.6599558752|1|3|\n"
     ]
    }
   ],
   "source": [
    "print(f'Element 221: |{matrix_A[1][1][0]:.10f}|{matrix_B[1][1][0]}|{matrix_C[1][1][0]}|')\n",
    "print(f'Element 333: |{matrix_A[2][2][2]:.10f}|{matrix_B[2][2][2]}|{matrix_C[2][2][2]}|')\n",
    "print(f'Element 422: |{matrix_A[3][1][1]:.10f}|{matrix_B[3][1][1]}|{matrix_C[3][1][1]}|')\n",
    "print(f'Element 147: |{matrix_A[0][3][6]:.10f}|{matrix_B[0][3][6]}|{matrix_C[0][3][6]}|')\n",
    "print(f'Element 323: |{matrix_A[2][1][2]:.10f}|{matrix_B[2][1][2]}|{matrix_C[2][1][2]}|')"
   ]
  },
  {
   "cell_type": "code",
   "execution_count": 65,
   "metadata": {},
   "outputs": [
    {
     "data": {
      "text/plain": [
       "{0.0012887447965609367: [1, 3, 1],\n",
       " 0.019630751793577428: [2, 1, 0],\n",
       " 0.023476862642737184: [1, 0, 0],\n",
       " 0.02647356846202631: [2, 0, 1],\n",
       " 0.028572213634764143: [0, 3, 6]}"
      ]
     },
     "execution_count": 65,
     "metadata": {},
     "output_type": "execute_result"
    }
   ],
   "source": [
    "def get_minimums(matrix, number):\n",
    "    minimums=sorted(np.ravel(matrix))[:number]\n",
    "    d={}\n",
    "    get_index=lambda x: x[0]\n",
    "    for i in minimums:\n",
    "        d[i]=list(map(get_index,np.where(matrix==i)))\n",
    "    return d\n",
    "\n",
    "get_minimums(matrix_A,5)"
   ]
  },
  {
   "cell_type": "code",
   "execution_count": 64,
   "metadata": {},
   "outputs": [],
   "source": [
    "def write_to_file(array, file_name, matrix_name):\n",
    "    with open(file_name, mode=\"w\") as file:\n",
    "        file.write(f'Matrix {matrix_name}:\\n {array}\\n\\n')\n",
    "        file.write(f'Q={sum_by_coefs(array)}\\n\\n')\n",
    "        file.write(f'Lowest values: {get_minimums(array,5)}')\n",
    "\n",
    "write_to_file(matrix_A, \"Matrix A.txt\", \"A\")\n",
    "write_to_file(matrix_B, \"Matrix B.txt\", \"B\")\n",
    "write_to_file(matrix_C, \"Matrix c.txt\", \"C\")"
   ]
  }
 ],
 "metadata": {
  "kernelspec": {
   "display_name": "Python 3",
   "language": "python",
   "name": "python3"
  },
  "language_info": {
   "codemirror_mode": {
    "name": "ipython",
    "version": 3
   },
   "file_extension": ".py",
   "mimetype": "text/x-python",
   "name": "python",
   "nbconvert_exporter": "python",
   "pygments_lexer": "ipython3",
   "version": "3.11.1"
  },
  "orig_nbformat": 4,
  "vscode": {
   "interpreter": {
    "hash": "2f15ea52d2f92a84772cfa5125b9346f5157aee005f4fc97ed7be25c5c855968"
   }
  }
 },
 "nbformat": 4,
 "nbformat_minor": 2
}
